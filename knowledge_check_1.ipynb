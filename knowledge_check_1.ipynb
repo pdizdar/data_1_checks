{
 "cells": [
  {
   "cell_type": "markdown",
   "id": "fb902394",
   "metadata": {},
   "source": [
    "# a statement that prints \"hello world!\""
   ]
  },
  {
   "cell_type": "code",
   "execution_count": 1,
   "id": "603b39e1",
   "metadata": {},
   "outputs": [
    {
     "name": "stdout",
     "output_type": "stream",
     "text": [
      "Hello World\n"
     ]
    }
   ],
   "source": [
    "print('Hello World')"
   ]
  },
  {
   "cell_type": "markdown",
   "id": "02e8d269",
   "metadata": {},
   "source": [
    "# creating a list and printing 1 value"
   ]
  },
  {
   "cell_type": "code",
   "execution_count": 5,
   "id": "076f8382",
   "metadata": {},
   "outputs": [
    {
     "name": "stdout",
     "output_type": "stream",
     "text": [
      "Bananas\n"
     ]
    }
   ],
   "source": [
    "fruits = ['apples', 'bananas', 'cherry', 'grapes', 'oranges' ]\n",
    "print(fruits[1].capitalize())"
   ]
  },
  {
   "cell_type": "markdown",
   "id": "b3d0a734",
   "metadata": {},
   "source": [
    "# creating a dictionary with 2 key value pair and printing one"
   ]
  },
  {
   "cell_type": "code",
   "execution_count": 6,
   "id": "b4b93409",
   "metadata": {},
   "outputs": [
    {
     "name": "stdout",
     "output_type": "stream",
     "text": [
      "4\n"
     ]
    }
   ],
   "source": [
    "veggies = {'broccoli' : '3', 'green beans' : '4'}\n",
    "print(veggies['green beans'])\n"
   ]
  },
  {
   "cell_type": "markdown",
   "id": "523f0906",
   "metadata": {},
   "source": [
    "# creating tuple and printing one value"
   ]
  },
  {
   "cell_type": "code",
   "execution_count": 8,
   "id": "5fed70e2",
   "metadata": {},
   "outputs": [
    {
     "name": "stdout",
     "output_type": "stream",
     "text": [
      "python\n"
     ]
    }
   ],
   "source": [
    "tuple = (1,'python','vscode',4)\n",
    "print(tuple[1])"
   ]
  },
  {
   "cell_type": "code",
   "execution_count": null,
   "id": "b406e36b",
   "metadata": {},
   "outputs": [],
   "source": []
  }
 ],
 "metadata": {
  "kernelspec": {
   "display_name": "Python 3.10.6 64-bit",
   "language": "python",
   "name": "python3"
  },
  "language_info": {
   "codemirror_mode": {
    "name": "ipython",
    "version": 3
   },
   "file_extension": ".py",
   "mimetype": "text/x-python",
   "name": "python",
   "nbconvert_exporter": "python",
   "pygments_lexer": "ipython3",
   "version": "3.10.6"
  },
  "vscode": {
   "interpreter": {
    "hash": "7035242809239a9ce3bb05b957fde49fccdabf609ac60690970f94110aed7619"
   }
  }
 },
 "nbformat": 4,
 "nbformat_minor": 5
}
